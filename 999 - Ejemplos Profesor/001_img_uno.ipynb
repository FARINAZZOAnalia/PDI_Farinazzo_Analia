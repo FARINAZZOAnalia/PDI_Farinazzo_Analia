{
  "nbformat": 4,
  "nbformat_minor": 0,
  "metadata": {
    "colab": {
      "provenance": []
    },
    "kernelspec": {
      "name": "python3",
      "display_name": "Python 3"
    },
    "language_info": {
      "name": "python"
    }
  },
  "cells": [
    {
      "cell_type": "markdown",
      "source": [
        "##Lectura, Guardado y Visualización de Imágenes con PIL/Pillow"
      ],
      "metadata": {
        "id": "QjjWl6sIb-G0"
      }
    },
    {
      "cell_type": "code",
      "execution_count": null,
      "metadata": {
        "id": "e5t0Z98Mb8p5"
      },
      "outputs": [],
      "source": [
        "from PIL import Image  # Importar la clase Image\n",
        "import matplotlib.pyplot as plt  # Para visualización"
      ]
    },
    {
      "cell_type": "markdown",
      "source": [
        "##Cargar una Imagen"
      ],
      "metadata": {
        "id": "uEXDheeUclfy"
      }
    },
    {
      "cell_type": "markdown",
      "source": [
        "Opcion A: Cargar una Imagen desde Google Colab"
      ],
      "metadata": {
        "id": "HGh-EhPBcIVT"
      }
    },
    {
      "cell_type": "code",
      "source": [
        "from google.colab import drive\n",
        "drive.mount('/content/drive')"
      ],
      "metadata": {
        "colab": {
          "base_uri": "https://localhost:8080/"
        },
        "id": "dqpPEKwJcIrs",
        "outputId": "9ec03407-2b12-4443-a67e-076abec0fbae"
      },
      "execution_count": null,
      "outputs": [
        {
          "output_type": "stream",
          "name": "stdout",
          "text": [
            "Mounted at /content/drive\n"
          ]
        }
      ]
    },
    {
      "cell_type": "code",
      "source": [
        "im = Image.open('')"
      ],
      "metadata": {
        "id": "JfavFdE_dEvj"
      },
      "execution_count": null,
      "outputs": []
    },
    {
      "cell_type": "markdown",
      "source": [
        "Opción B: Descargar una imagen de ejemplo desde una URL:"
      ],
      "metadata": {
        "id": "HqUIcbSUcfTd"
      }
    },
    {
      "cell_type": "code",
      "source": [
        "!wget = \"https://upload.wikimedia.org/wikipedia/commons/e/ed/Ara_macao_-on_a_small_bicycle-8.jpg\"  # Ejemplo público"
      ],
      "metadata": {
        "colab": {
          "base_uri": "https://localhost:8080/"
        },
        "id": "jhCVQiVmcelY",
        "outputId": "7d78e0bf-ec5f-4313-ef37-dd953bf9c91f"
      },
      "execution_count": null,
      "outputs": [
        {
          "output_type": "stream",
          "name": "stdout",
          "text": [
            "--2025-04-16 00:12:10--  http://=/\n",
            "Resolving = (=)... failed: Name or service not known.\n",
            "wget: unable to resolve host address ‘=’\n",
            "--2025-04-16 00:12:10--  https://upload.wikimedia.org/wikipedia/commons/e/ed/Ara_macao_-on_a_small_bicycle-8.jpg\n",
            "Resolving upload.wikimedia.org (upload.wikimedia.org)... 208.80.154.240, 2620:0:861:ed1a::2:b\n",
            "Connecting to upload.wikimedia.org (upload.wikimedia.org)|208.80.154.240|:443... connected.\n",
            "HTTP request sent, awaiting response... 200 OK\n",
            "Length: 556913 (544K) [image/jpeg]\n",
            "Saving to: ‘Ara_macao_-on_a_small_bicycle-8.jpg’\n",
            "\n",
            "\r          Ara_macao   0%[                    ]       0  --.-KB/s               \rAra_macao_-on_a_sma 100%[===================>] 543.86K  --.-KB/s    in 0.06s   \n",
            "\n",
            "2025-04-16 00:12:11 (8.22 MB/s) - ‘Ara_macao_-on_a_small_bicycle-8.jpg’ saved [556913/556913]\n",
            "\n",
            "FINISHED --2025-04-16 00:12:11--\n",
            "Total wall clock time: 0.2s\n",
            "Downloaded: 1 files, 544K in 0.06s (8.22 MB/s)\n"
          ]
        }
      ]
    },
    {
      "cell_type": "code",
      "source": [
        "im = Image.open('/content/Ara_macao_-on_a_small_bicycle-8.jpg')"
      ],
      "metadata": {
        "id": "UF5BqUqbev0P"
      },
      "execution_count": null,
      "outputs": []
    },
    {
      "cell_type": "markdown",
      "source": [
        "##Propiedades Básicas de la Imagen"
      ],
      "metadata": {
        "id": "jX89DDIJfJwV"
      }
    },
    {
      "cell_type": "code",
      "source": [
        "print(f\"\"\"\n",
        "Ancho: {im.width} píxeles\n",
        "Alto: {im.height} píxeles\n",
        "Modo: {im.mode} (RGB, L=Escala de grises, etc.)\n",
        "Formato: {im.format}\n",
        "Tipo de objeto: {type(im)}\n",
        "\"\"\")"
      ],
      "metadata": {
        "id": "1cM9FeSbe4sr"
      },
      "execution_count": null,
      "outputs": []
    },
    {
      "cell_type": "markdown",
      "source": [
        "##Visualizar la Imagen"
      ],
      "metadata": {
        "id": "iiIYaX-5fRSE"
      }
    },
    {
      "cell_type": "code",
      "source": [
        "plt.figure(figsize=(8, 6))\n",
        "plt.imshow(im)\n",
        "plt.axis('off')  # Ocultar ejes\n",
        "plt.title(\"Loro (RGB)\")\n",
        "plt.show()"
      ],
      "metadata": {
        "id": "xuRPnyCGfSY2"
      },
      "execution_count": null,
      "outputs": []
    },
    {
      "cell_type": "markdown",
      "source": [
        "Convertir a Escala de Grises y Guardar"
      ],
      "metadata": {
        "id": "nenA32vpfV-E"
      }
    },
    {
      "cell_type": "code",
      "source": [
        "im_gris = im.convert('L')  # 'L' = Escala de grises"
      ],
      "metadata": {
        "id": "s5gd4qDffWhO"
      },
      "execution_count": null,
      "outputs": []
    },
    {
      "cell_type": "code",
      "source": [
        "# Mostrar ambas imágenes\n",
        "fig, axes = plt.subplots(1, 2, figsize=(12, 6))\n",
        "axes[0].imshow(im); axes[0].set_title(\"Original (RGB)\"); axes[0].axis('off')\n",
        "axes[1].imshow(im_gris, cmap='gray'); axes[1].set_title(\"Escala de Grises\"); axes[1].axis('off')\n",
        "plt.show()"
      ],
      "metadata": {
        "id": "SdM3RWXzffqd"
      },
      "execution_count": null,
      "outputs": []
    },
    {
      "cell_type": "code",
      "source": [
        "# Guardar la nueva imagen\n",
        "im_gris.save(\"parrot_gris.jpg\")  # Se guarda en el sistema de archivos de Colab"
      ],
      "metadata": {
        "id": "1jeGS8AxfhhK"
      },
      "execution_count": null,
      "outputs": []
    },
    {
      "cell_type": "markdown",
      "source": [
        "¿Qué pasa si convertimos la imagen a modo '1' (binario: blanco y negro puro)?"
      ],
      "metadata": {
        "id": "7zRt_7uQf9sQ"
      }
    },
    {
      "cell_type": "code",
      "source": [
        "im_binaria = im.convert('1')  # 1-bit\n",
        "plt.imshow(im_binaria, cmap='gray')\n",
        "plt.title(\"Imagen Binaria (1-bit)\")\n",
        "plt.axis('off')\n",
        "plt.show()"
      ],
      "metadata": {
        "id": "4ehQzYqxf-kg"
      },
      "execution_count": null,
      "outputs": []
    },
    {
      "cell_type": "markdown",
      "source": [
        "Explicaciones Clave\n",
        "\n",
        "    Image.open(): Carga la imagen en un objeto PIL.Image.\n",
        "\n",
        "    Modos de imagen:\n",
        "\n",
        "        'RGB': 3 canales (Red, Green, Blue).\n",
        "\n",
        "        'L': Escala de grises (Luminance).\n",
        "\n",
        "        '1': Binario (blanco/negro).\n",
        "\n",
        "    Guardado: Usar im.save(\"nombre.ext\") (soporta PNG, JPEG, etc.)."
      ],
      "metadata": {
        "id": "-gTIdFrogDBw"
      }
    },
    {
      "cell_type": "markdown",
      "source": [
        "##Lectura, Guardado y Visualización de Imágenes con Matplotlib"
      ],
      "metadata": {
        "id": "TtFSKGighg9r"
      }
    },
    {
      "cell_type": "markdown",
      "source": [
        "###Importar Bibliotecas\n",
        "\n",
        "En Google Colab, matplotlib y numpy ya están instalados:"
      ],
      "metadata": {
        "id": "zNua0-7dho0h"
      }
    },
    {
      "cell_type": "code",
      "source": [
        "import matplotlib.pyplot as plt\n",
        "import matplotlib.image as mpimg\n",
        "import numpy as np"
      ],
      "metadata": {
        "id": "woyRnCzWhgss"
      },
      "execution_count": null,
      "outputs": []
    },
    {
      "cell_type": "markdown",
      "source": [
        "###Cargar una Imagen"
      ],
      "metadata": {
        "id": "y9yHGzxhhvnJ"
      }
    },
    {
      "cell_type": "code",
      "source": [
        "!wget 'https://upload.wikimedia.org/wikipedia/commons/c/c8/Perito_Moreno_Glacier_2023.jpg'"
      ],
      "metadata": {
        "id": "qAbN1NCqiGg4"
      },
      "execution_count": null,
      "outputs": []
    },
    {
      "cell_type": "code",
      "source": [
        "im = mpimg.imread('/content/Perito_Moreno_Glacier_2023.jpg')"
      ],
      "metadata": {
        "id": "Zo0l2i3RiUPX"
      },
      "execution_count": null,
      "outputs": []
    },
    {
      "cell_type": "markdown",
      "source": [
        "###Propiedades de la Imagen\n",
        "\n",
        "Matplotlib carga la imagen como un array NumPy con valores normalizados (float32 entre 0 y 1):"
      ],
      "metadata": {
        "id": "3Iq9Dl6hikJw"
      }
    },
    {
      "cell_type": "code",
      "source": [
        "print(f\"\"\"\n",
        "Dimensiones (alto, ancho, canales): {im.shape}\n",
        "Tipo de dato: {im.dtype}\n",
        "Tipo de objeto: {type(im)}\n",
        "\"\"\")"
      ],
      "metadata": {
        "id": "ETJxoiJhimvP"
      },
      "execution_count": null,
      "outputs": []
    },
    {
      "cell_type": "markdown",
      "source": [
        "###Visualizar la Imagen"
      ],
      "metadata": {
        "id": "N3AoFjNmi1Xj"
      }
    },
    {
      "cell_type": "code",
      "source": [
        "plt.figure(figsize=(10, 8))\n",
        "plt.imshow(im)\n",
        "plt.axis('off')  # Ocultar ejes\n",
        "plt.title(\"Imagen con Canal Alfa (RGBA)\")\n",
        "plt.show()"
      ],
      "metadata": {
        "id": "UqGwyVjei3BB"
      },
      "execution_count": null,
      "outputs": []
    },
    {
      "cell_type": "markdown",
      "source": [
        "###Convertir y Guardar la Imagen\n",
        "\n",
        "Ejemplo: Convertir a escala de grises y guardar:"
      ],
      "metadata": {
        "id": "7wAjDl0Ri9ng"
      }
    },
    {
      "cell_type": "code",
      "source": [
        "# Convertir a grises (promedio de canales RGB, ignorando canal alfa)\n",
        "im_gris = np.mean(im[:, :, :3], axis=2)  # Canales R+G+B / 3"
      ],
      "metadata": {
        "id": "lxrjakuoi_6c"
      },
      "execution_count": null,
      "outputs": []
    },
    {
      "cell_type": "code",
      "source": [
        "# Guardar con matplotlib (normalizar a 0-255 si es necesario)\n",
        "plt.imsave(\"hill_gris.png\", im_gris, cmap='gray')  # Guardar en Colab"
      ],
      "metadata": {
        "id": "tjML5Y3jjFir"
      },
      "execution_count": null,
      "outputs": []
    },
    {
      "cell_type": "code",
      "source": [
        "plt.figure(figsize=(10, 8))\n",
        "plt.imshow(im_gris, cmap='gray')\n",
        "plt.axis('off')  # Ocultar ejes\n",
        "plt.title(\"Imagen en Escala de Grises\")\n",
        "plt.show()"
      ],
      "metadata": {
        "id": "qoFnOLXPjUPt"
      },
      "execution_count": null,
      "outputs": []
    },
    {
      "cell_type": "markdown",
      "source": [
        "###Interpolación en Visualización con matplotlib.imshow()\n",
        "\n",
        "Explorar métodos de interpolación al visualizar imágenes pequeñas para entender cómo afectan la calidad aparente."
      ],
      "metadata": {
        "id": "rPoipwvdkV9j"
      }
    },
    {
      "cell_type": "code",
      "source": [
        "!wget = 'https://upload.wikimedia.org/wikipedia/commons/9/9e/House_Sparrow_%28M%29_I_IMG_7881.jpg'"
      ],
      "metadata": {
        "id": "BvzWRe5rkaxT"
      },
      "execution_count": null,
      "outputs": []
    },
    {
      "cell_type": "markdown",
      "source": [
        "###Verificar tamaño:"
      ],
      "metadata": {
        "id": "KPds5U2bs1ul"
      }
    },
    {
      "cell_type": "code",
      "source": [
        "im = mpimg.imread('/content/House_Sparrow_(M)_I_IMG_7881.jpg')"
      ],
      "metadata": {
        "id": "CDfI9OLFtJFT"
      },
      "execution_count": null,
      "outputs": []
    },
    {
      "cell_type": "code",
      "source": [
        "print(\"Dimensiones de la imagen:\", im.shape)  # Debería ser pequeña (ej. 50x50)"
      ],
      "metadata": {
        "id": "WT0z2cN7s2Cr"
      },
      "execution_count": null,
      "outputs": []
    },
    {
      "cell_type": "markdown",
      "source": [
        "###Visualizar con Diferentes Métodos de Interpolación\n",
        "\n",
        "Lista de métodos disponibles:"
      ],
      "metadata": {
        "id": "H5Dy7otBtpMA"
      }
    },
    {
      "cell_type": "code",
      "source": [
        "metodos = ['none', 'nearest', 'bilinear', 'bicubic', 'spline16', 'lanczos']"
      ],
      "metadata": {
        "id": "yoyJwxhHtkvl"
      },
      "execution_count": null,
      "outputs": []
    },
    {
      "cell_type": "markdown",
      "source": [
        "###Código para comparar métodos:"
      ],
      "metadata": {
        "id": "W5wLJXOwtzZE"
      }
    },
    {
      "cell_type": "code",
      "source": [
        "fig, axes = plt.subplots(2, 3, figsize=(15, 10),\n",
        "                        subplot_kw={'xticks': [], 'yticks': []})\n",
        "fig.subplots_adjust(hspace=0.1, wspace=0.1)\n",
        "\n",
        "for ax, metodo in zip(axes.flat, metodos):\n",
        "    ax.imshow(im, interpolation=metodo)\n",
        "    ax.set_title(metodo, fontsize=14)\n",
        "plt.tight_layout()\n",
        "plt.show()"
      ],
      "metadata": {
        "id": "ZSd-oHNPt3By"
      },
      "execution_count": null,
      "outputs": []
    },
    {
      "cell_type": "markdown",
      "source": [
        "| Método | Descripción | Uso Típico |\n",
        "|---|---|---|\n",
        "| 'none' | Sin interpolación (píxeles bloqueados). | Imágenes pixeladas. |\n",
        "| 'nearest' | Interpolación por vecino más cercano (rápido, bajo costo computacional). | Gráficos simples. |\n",
        "| 'bilinear' | Interpolación lineal en una cuadrícula 2x2. | Balance calidad-velocidad. |\n",
        "| 'bicubic' | Interpolación cúbica en una cuadrícula 4x4 (mejor calidad que bilinear). | Fotografías. |\n",
        "| 'spline16' | Interpolación spline de orden 16. | Alta calidad (lento). |\n",
        "| 'lanczos' | Interpolación con filtro Lanczos (alta calidad, antialiasing). | Detalle fino (ej. astronomía). |"
      ],
      "metadata": {
        "id": "Y2cw8Pa8t-eK"
      }
    },
    {
      "cell_type": "markdown",
      "source": [
        "### Notas Clave\n",
        "\n",
        "**Contexto:** La interpolación solo afecta la visualización, no modifica los datos originales.\n",
        "\n",
        "**¿Cuándo usarla?:**\n",
        "\n",
        "*   `'nearest'` para imágenes pixeladas (ej. arte retro).\n",
        "*   `'bicubic'` o `'lanczos'` para ampliar imágenes pequeñas sin perder detalle aparente."
      ],
      "metadata": {
        "id": "vpNoYnlAvLVL"
      }
    },
    {
      "cell_type": "code",
      "source": [],
      "metadata": {
        "id": "2bIidbD_uo8B"
      },
      "execution_count": null,
      "outputs": []
    }
  ]
}