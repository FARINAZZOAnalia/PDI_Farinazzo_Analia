{
  "cells": [
    {
      "cell_type": "code",
      "source": [
        "import cv2\n",
        "import numpy as np\n",
        "import matplotlib.pyplot as plt"
      ],
      "metadata": {
        "id": "RwIVEJoDDgqs"
      },
      "execution_count": null,
      "outputs": []
    },
    {
      "cell_type": "code",
      "source": [
        "# --- Crear una imagen principal y una plantilla simples ---\n",
        "# Imagen principal (más grande)\n",
        "main_image = np.zeros((200, 300), dtype=np.uint8)\n",
        "# Añadir algunas formas\n",
        "cv2.rectangle(main_image, (50, 50), (100, 100), 255, -1) # Cuadrado blanco\n",
        "cv2.circle(main_image, (200, 100), 30, 150, -1) # Círculo gris"
      ],
      "metadata": {
        "id": "Kjw36IJ5DgoG",
        "outputId": "682d4cb6-fc32-484d-f3af-e7042ccaee6a",
        "colab": {
          "base_uri": "https://localhost:8080/",
          "height": 241
        }
      },
      "execution_count": null,
      "outputs": [
        {
          "output_type": "execute_result",
          "data": {
            "text/plain": [
              "array([[0, 0, 0, ..., 0, 0, 0],\n",
              "       [0, 0, 0, ..., 0, 0, 0],\n",
              "       [0, 0, 0, ..., 0, 0, 0],\n",
              "       ...,\n",
              "       [0, 0, 0, ..., 0, 0, 0],\n",
              "       [0, 0, 0, ..., 0, 0, 0],\n",
              "       [0, 0, 0, ..., 0, 0, 0]], dtype=uint8)"
            ],
            "text/html": [
              "<style>\n",
              "      .ndarray_repr .ndarray_raw_data {\n",
              "        display: none;\n",
              "      }\n",
              "      .ndarray_repr.show_array .ndarray_raw_data {\n",
              "        display: block;\n",
              "      }\n",
              "      .ndarray_repr.show_array .ndarray_image_preview {\n",
              "        display: none;\n",
              "      }\n",
              "      </style>\n",
              "      <div id=\"id-7599906d-473e-4186-b4f3-c740f4c05a32\" class=\"ndarray_repr\"><pre>ndarray (200, 300) <button style=\"padding: 0 2px;\">show data</button></pre><img src=\"data:image/png;base64,iVBORw0KGgoAAAANSUhEUgAAASwAAADICAAAAAB3tIOJAAAB1ElEQVR4nO3c0U6DQBRFUfRz/SB/V581Bjn0wvQ0a72bdnbuUBMYtg0AAAAAAAAAAAAAAAAAAK7wlv/J1y2f8ozeV3+BJmIFxAqIFRArIFZArIBYAbECYgXECogVECsgVkCsgFgBsQJiBcQKvEyszxs+o/+Gxa9KHxd+VHmsP+fpsl7NsXZ23jW9iq9Ze1epa65gtZP1b44Lhqs01qHJGc/VuQ2P7bLxvVgZ62iF6VqNsY43GK5VGCspMFurL1a2/tFadbHS1U/Wqou1UlusfFAGR6st1lJlsc6MydxodcU6t+6xWl2xFhMrUBXr7H6a2odVsVYTK9AU6/xuGtqHTbGWEysgVkCsgFgBsQJFsR75/Z/536HpQO4DK56531o0WeuJFRArIFZArIBYgaZY53//h57Uaoq1nFiBqlhnd9PU85JVsVYTK9AV69x+GntquSvWqXXPPeFdFmuttlj5mAweHWiLtVRdrHRQJs+k1MUKVz96fqcvVrT+2bNOhbGCAsPnwhpjHW4wfYauMtbBCuPnDZvuG/5QcpL1WezmuuREeec23LZtv8c1p++LJ2vbCt7r8GRufGPIy7jjXTQAAAAAAAAAAAAAAAAAAAAAAAAAAMt9Ayr1Ku7ajQvEAAAAAElFTkSuQmCC\" class=\"ndarray_image_preview\" /><pre class=\"ndarray_raw_data\">array([[0, 0, 0, ..., 0, 0, 0],\n",
              "       [0, 0, 0, ..., 0, 0, 0],\n",
              "       [0, 0, 0, ..., 0, 0, 0],\n",
              "       ...,\n",
              "       [0, 0, 0, ..., 0, 0, 0],\n",
              "       [0, 0, 0, ..., 0, 0, 0],\n",
              "       [0, 0, 0, ..., 0, 0, 0]], dtype=uint8)</pre></div><script>\n",
              "      (() => {\n",
              "      const titles = ['show data', 'hide data'];\n",
              "      let index = 0\n",
              "      document.querySelector('#id-7599906d-473e-4186-b4f3-c740f4c05a32 button').onclick = (e) => {\n",
              "        document.querySelector('#id-7599906d-473e-4186-b4f3-c740f4c05a32').classList.toggle('show_array');\n",
              "        index = (++index) % 2;\n",
              "        document.querySelector('#id-7599906d-473e-4186-b4f3-c740f4c05a32 button').textContent = titles[index];\n",
              "        e.preventDefault();\n",
              "        e.stopPropagation();\n",
              "      }\n",
              "      })();\n",
              "    </script>"
            ]
          },
          "metadata": {},
          "execution_count": 2
        }
      ]
    },
    {
      "cell_type": "code",
      "source": [
        "# Imagen de plantilla (más pequeña, el cuadrado blanco que queremos encontrar)\n",
        "template = np.zeros((60, 60), dtype=np.uint8)\n",
        "cv2.rectangle(template, (5, 5), (55, 55), 255, -1) # Cuadrado blanco para buscar"
      ],
      "metadata": {
        "id": "VFrLTyohDglj"
      },
      "execution_count": null,
      "outputs": []
    },
    {
      "cell_type": "code",
      "source": [
        "# Obtener dimensiones de la plantilla\n",
        "# OpenCV usa (ancho, alto) para las formas pero shape devuelve (alto, ancho)\n",
        "h, w = template.shape # Obtener alto y ancho\n",
        "# w, h = template.shape[::-1] # Alternativa para obtener ancho, alto directamente"
      ],
      "metadata": {
        "id": "vF6gr4jJDgaZ"
      },
      "execution_count": null,
      "outputs": []
    },
    {
      "cell_type": "code",
      "source": [
        "# --- Realizar Template Matching (Coincidencia de Plantilla) ---\n",
        "# Usar el método TM_CCOEFF_NORMED para una coincidencia robusta\n",
        "# Existen otros métodos: TM_SQDIFF, TM_CCORR_NORMED, etc.\n",
        "res = cv2.matchTemplate(main_image, template, cv2.TM_CCOEFF_NORMED)"
      ],
      "metadata": {
        "id": "gB1O0P3iDyM4"
      },
      "execution_count": null,
      "outputs": []
    },
    {
      "cell_type": "code",
      "source": [
        "# --- Encontrar la ubicación de la mejor coincidencia ---\n",
        "# Encontrar la ubicación con el puntaje de correlación máximo\n",
        "min_val, max_val, min_loc, max_loc = cv2.minMaxLoc(res)"
      ],
      "metadata": {
        "id": "F3j_3cyrDyJW"
      },
      "execution_count": null,
      "outputs": []
    },
    {
      "cell_type": "code",
      "source": [
        "# max_loc da la esquina superior izquierda del área coincidente\n",
        "top_left = max_loc\n",
        "# Calcular la esquina inferior derecha sumando el ancho y alto de la plantilla\n",
        "bottom_right = (top_left[0] + w, top_left[1] + h)"
      ],
      "metadata": {
        "id": "ECRI6LGjD3i0"
      },
      "execution_count": null,
      "outputs": []
    },
    {
      "cell_type": "code",
      "source": [
        "# --- Dibujar un rectángulo alrededor del área coincidente en la imagen principal ---\n",
        "# Crear una copia a color para dibujar el rectángulo en color\n",
        "main_image_color = cv2.cvtColor(main_image, cv2.COLOR_GRAY2BGR)\n",
        "cv2.rectangle(main_image_color, top_left, bottom_right, (0, 255, 0), 2) # Rectángulo verde, grosor 2"
      ],
      "metadata": {
        "id": "6ZQtNKPiD3f5"
      },
      "execution_count": null,
      "outputs": []
    },
    {
      "cell_type": "code",
      "source": [
        "# --- Mostrar los resultados usando Matplotlib ---\n",
        "plt.figure(figsize=(12, 5)) # Ajustar tamaño de la figura\n",
        "\n",
        "plt.subplot(131) # Primera subfigura (1 fila, 3 columnas, posición 1)\n",
        "plt.imshow(main_image, cmap='gray')\n",
        "plt.title('Imagen Principal')\n",
        "plt.axis('off') # Ocultar ejes\n",
        "\n",
        "plt.subplot(132) # Segunda subfigura\n",
        "plt.imshow(template, cmap='gray')\n",
        "plt.title('Plantilla')\n",
        "plt.axis('off')\n",
        "\n",
        "plt.subplot(133) # Tercera subfigura\n",
        "plt.imshow(cv2.cvtColor(main_image_color, cv2.COLOR_BGR2RGB)) # Convertir BGR a RGB para Matplotlib\n",
        "plt.title('Coincidencia Encontrada')\n",
        "plt.axis('off')\n",
        "\n",
        "# Título general para la figura\n",
        "plt.suptitle(f'Resultado de Template Matching (Score: {max_val:.2f})')\n",
        "plt.tight_layout() # Ajustar espaciado\n",
        "plt.show() # Mostrar la figura"
      ],
      "metadata": {
        "id": "YBp__ZTcD3c_"
      },
      "execution_count": null,
      "outputs": []
    },
    {
      "cell_type": "code",
      "source": [
        "# Imprimir información en la consola\n",
        "print(f\"Plantilla encontrada en la posición (esquina superior izquierda): {top_left}\")\n",
        "print(f\"Máximo score de correlación: {max_val:.4f}\")"
      ],
      "metadata": {
        "id": "_jFzSn8mECuD"
      },
      "execution_count": null,
      "outputs": []
    },
    {
      "cell_type": "code",
      "source": [
        "# Explicación:\n",
        "# - Creamos una imagen principal y una imagen de plantilla más pequeña.\n",
        "# - `cv2.matchTemplate` desliza la plantilla sobre la imagen principal y calcula un puntaje de similitud en cada posición.\n",
        "# - `cv2.minMaxLoc` encuentra la posición donde el puntaje de similitud es más alto (para TM_CCOEFF_NORMED).\n",
        "# - Dibujamos un rectángulo en esa posición para mostrar la coincidencia.\n",
        "# - Usamos Matplotlib para mostrar la imagen original, la plantilla y el resultado lado a lado."
      ],
      "metadata": {
        "id": "_RTTyo8cEGf6"
      },
      "execution_count": null,
      "outputs": []
    }
  ],
  "metadata": {
    "colab": {
      "provenance": []
    },
    "kernelspec": {
      "display_name": "Python 3",
      "name": "python3"
    }
  },
  "nbformat": 4,
  "nbformat_minor": 0
}